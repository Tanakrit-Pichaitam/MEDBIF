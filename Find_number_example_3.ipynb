{
 "cells": [
  {
   "cell_type": "markdown",
   "metadata": {},
   "source": [
    "#### Code ที่พี่จะเขียน\n",
    "กระบวนการคิดคือวนลูปตามตัวเลขที่กำหนดให้ ในกรณีนี้คือ >3500 ถึง 5000\n",
    "แล้วเปลี่ยนตัวเลขเป็นตัวอักษร จากนั้นก็นำแต่ละตำแหน่งมาเปรียบเทียบตามเงื่อนไข\n",
    "ถ้าใช่ก็นำตัวเลขไปใส่ไว้ใน ตัวแปร ans"
   ]
  },
  {
   "cell_type": "markdown",
   "metadata": {},
   "source": [
    "## รูปแบบที่ 1"
   ]
  },
  {
   "cell_type": "code",
   "execution_count": 7,
   "metadata": {
    "collapsed": false
   },
   "outputs": [
    {
     "name": "stdout",
     "output_type": "stream",
     "text": [
      "คำตอบคือ [3543, 3633, 3723, 3813, 3903, 4094, 4184, 4274, 4364, 4454, 4544, 4634, 4724, 4814, 4904]\n",
      "ทั้งหมด 15 ตัว\n"
     ]
    }
   ],
   "source": [
    "ans = []\n",
    "for number in range(3500,5001):\n",
    "    no_str = str(number)\n",
    "    if (no_str[0]==no_str[3]) and (int(no_str[1])+int(no_str[2])==9):\n",
    "        ans.append(number)\n",
    "print(\"คำตอบคือ\", ans)\n",
    "print(\"ทั้งหมด\",len(ans),\"ตัว\")"
   ]
  },
  {
   "cell_type": "markdown",
   "metadata": {},
   "source": [
    "ถ้า code ด้านบน อ่านเข้าใจยาก อาจจะเปลี่ยนตัวแปรเพื่อเพิ่มความเข้าใจดังนี้"
   ]
  },
  {
   "cell_type": "markdown",
   "metadata": {},
   "source": [
    "## รูปแบบที่ 2"
   ]
  },
  {
   "cell_type": "code",
   "execution_count": 8,
   "metadata": {
    "collapsed": false
   },
   "outputs": [
    {
     "name": "stdout",
     "output_type": "stream",
     "text": [
      "คำตอบคือ [3543, 3633, 3723, 3813, 3903, 4094, 4184, 4274, 4364, 4454, 4544, 4634, 4724, 4814, 4904]\n",
      "ทั้งหมด 15 ตัว\n"
     ]
    }
   ],
   "source": [
    "ans = []\n",
    "for number in range(3500,5001):\n",
    "    no_str = str(number)\n",
    "    condition1 = (no_str[0]==no_str[3]) # หลักพันและหลักหน่วยเท่ากัน\n",
    "    condition2 = (int(no_str[1])+int(no_str[2])==9) # หลักร้อยบวกหลักสิบเท่ากับเก้า\n",
    "    if condition1 and condition2:\n",
    "        ans.append(number)\n",
    "print(\"คำตอบคือ\", ans)\n",
    "print(\"ทั้งหมด\",len(ans),\"ตัว\")"
   ]
  },
  {
   "cell_type": "markdown",
   "metadata": {},
   "source": [
    "เนื่องจากเราทราบว่าตัวเลขจะมี 4 หลัก เราสามารถใช้ความเข้าใจอันนี้ แตกตัวเลขแต่ละหลักใส่ไว้ในตัวแปรได้เลย ดังตัวอย่าง"
   ]
  },
  {
   "cell_type": "code",
   "execution_count": 11,
   "metadata": {
    "collapsed": false
   },
   "outputs": [
    {
     "data": {
      "text/plain": [
       "('1', '2', '3', '4')"
      ]
     },
     "execution_count": 11,
     "metadata": {},
     "output_type": "execute_result"
    }
   ],
   "source": [
    "i,j,k,l = \"1234\"\n",
    "i,j,k,l"
   ]
  },
  {
   "cell_type": "markdown",
   "metadata": {},
   "source": [
    "## รูปแบบที่ 3"
   ]
  },
  {
   "cell_type": "code",
   "execution_count": 12,
   "metadata": {
    "collapsed": false
   },
   "outputs": [
    {
     "name": "stdout",
     "output_type": "stream",
     "text": [
      "คำตอบคือ [3543, 3633, 3723, 3813, 3903, 4094, 4184, 4274, 4364, 4454, 4544, 4634, 4724, 4814, 4904]\n",
      "ทั้งหมด 15 ตัว\n"
     ]
    }
   ],
   "source": [
    "ans = []\n",
    "for number in range(3500,5001):\n",
    "    i,j,k,l = str(number)\n",
    "    if (i==l) and (int(j)+int(k)==9):\n",
    "        ans.append(number)\n",
    "print(\"คำตอบคือ\", ans)\n",
    "print(\"ทั้งหมด\",len(ans),\"ตัว\")"
   ]
  }
 ],
 "metadata": {
  "kernelspec": {
   "display_name": "Python 3",
   "language": "python",
   "name": "python3"
  },
  "language_info": {
   "codemirror_mode": {
    "name": "ipython",
    "version": 3
   },
   "file_extension": ".py",
   "mimetype": "text/x-python",
   "name": "python",
   "nbconvert_exporter": "python",
   "pygments_lexer": "ipython3",
   "version": "3.5.1"
  }
 },
 "nbformat": 4,
 "nbformat_minor": 0
}
