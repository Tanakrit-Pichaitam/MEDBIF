{
 "cells": [
  {
   "cell_type": "markdown",
   "metadata": {},
   "source": [
    "## Original code"
   ]
  },
  {
   "cell_type": "code",
   "execution_count": 1,
   "metadata": {
    "collapsed": false
   },
   "outputs": [
    {
     "data": {
      "text/plain": [
       "[[3, 5, 4, 3],\n",
       " [3, 6, 3, 3],\n",
       " [3, 7, 2, 3],\n",
       " [3, 8, 1, 3],\n",
       " [3, 9, 0, 3],\n",
       " [4, 0, 9, 4],\n",
       " [4, 1, 8, 4],\n",
       " [4, 2, 7, 4],\n",
       " [4, 3, 6, 4],\n",
       " [4, 4, 5, 4],\n",
       " [4, 5, 4, 4],\n",
       " [4, 6, 3, 4],\n",
       " [4, 7, 2, 4],\n",
       " [4, 8, 1, 4],\n",
       " [4, 9, 0, 4]]"
      ]
     },
     "execution_count": 1,
     "metadata": {},
     "output_type": "execute_result"
    }
   ],
   "source": [
    "#การบ้านให้แสดงผลเลขโดดสี่ตัว\n",
    "#หลักพันและหลักหน่วยเป็นเลขตัวเดียวกัน\n",
    "#หลักร้อยกับหลักสิบบวกกันเท่ากับเก้า\n",
    "#เลขตั้งแต่3500ถึง5000\n",
    "\n",
    "A = range(3,5)\n",
    "B = range(0,10)\n",
    "\n",
    "#หน้าที่เลขโดดจะออกมาได้\n",
    "#ตั้งแต่3000ถึง5000\n",
    "O_3000_5000 = [ [a,b,c,a] for a in A for b in B for c in B if b+c ==9]\n",
    "#หน้าลูกเต๋าตั้งแต่3000ถึง3450\n",
    "O_3000_3400 = [ [a,b,c,a] for a in A for b in B for c in B if a ==3 and b <5 and b+c ==9]\n",
    "\n",
    "#ผลลัพธ์ที่ต้องการตั้งแต่3500ถึง5000\n",
    "[FINALL_O for FINALL_O in O_3000_5000 if FINALL_O not in O_3000_3400]\n"
   ]
  },
  {
   "cell_type": "markdown",
   "metadata": {
    "collapsed": true
   },
   "source": [
    "#### เขียน code ได้ดีมาก กระชับ และมีการใช้ list comprehension พร้อมเงื่อนไขได้ดีมาก\n",
    "ใช้กลยุทธ์ในการหักค่าออก โดยหาค่าที่ตรงตามเงื่อนไขจาก 3000-5000 ก่อน แล้วหักค่าของ 3000-3400 ออก\n",
    "แต่ยังตอบโจทย์ไม่ครบ เพราะคำตอบไม่ได้ต้องการ list แต่ต้องการตัวเลข ต้องเขียนต่ออีกสักนิดก็จะสมบูรณ์ดังนี้ครับ"
   ]
  },
  {
   "cell_type": "code",
   "execution_count": 6,
   "metadata": {
    "collapsed": false
   },
   "outputs": [
    {
     "name": "stdout",
     "output_type": "stream",
     "text": [
      "คำตอบคือ [3517, 3616, 3715, 3814, 3913, 4023, 4122, 4221, 4320, 4419, 4518, 4617, 4716, 4815, 4914]\n",
      "มีทั้งหมด 15 ตัว\n"
     ]
    }
   ],
   "source": [
    "#การบ้านให้แสดงผลเลขโดดสี่ตัว\n",
    "#หลักพันและหลักหน่วยเป็นเลขตัวเดียวกัน\n",
    "#หลักร้อยกับหลักสิบบวกกันเท่ากับเก้า\n",
    "#เลขตั้งแต่3500ถึง5000\n",
    "\n",
    "A = range(3,5)\n",
    "B = range(0,10)\n",
    "\n",
    "#หน้าที่เลขโดดจะออกมาได้\n",
    "#ตั้งแต่3000ถึง5000\n",
    "O_3000_5000 = [ [a,b,c,a] for a in A for b in B for c in B if b+c ==9]\n",
    "#หน้าลูกเต๋าตั้งแต่3000ถึง3450\n",
    "O_3000_3400 = [ [a,b,c,a] for a in A for b in B for c in B if a ==3 and b <5 and b+c ==9]\n",
    "\n",
    "#ผลลัพธ์ที่ต้องการตั้งแต่3500ถึง5000\n",
    "final_ans = [FINALL_O for FINALL_O in O_3000_5000 if FINALL_O not in O_3000_3400]\n",
    "final_ans_as_int = [i*1000+j*100+k+10+l for i,j,k,l in final_ans]\n",
    "print(\"คำตอบคือ\", final_ans_as_int)\n",
    "print(\"มีทั้งหมด\", len(final_ans_as_int), \"ตัว\")"
   ]
  }
 ],
 "metadata": {
  "kernelspec": {
   "display_name": "Python 3",
   "language": "python",
   "name": "python3"
  },
  "language_info": {
   "codemirror_mode": {
    "name": "ipython",
    "version": 3
   },
   "file_extension": ".py",
   "mimetype": "text/x-python",
   "name": "python",
   "nbconvert_exporter": "python",
   "pygments_lexer": "ipython3",
   "version": "3.5.1"
  }
 },
 "nbformat": 4,
 "nbformat_minor": 0
}
