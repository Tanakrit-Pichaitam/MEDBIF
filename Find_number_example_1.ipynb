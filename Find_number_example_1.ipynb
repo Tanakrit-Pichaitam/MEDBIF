{
 "cells": [
  {
   "cell_type": "code",
   "execution_count": 1,
   "metadata": {
    "collapsed": false
   },
   "outputs": [
    {
     "name": "stdout",
     "output_type": "stream",
     "text": [
      "คำถาม?: จงหาตัวเลข 4 หลัก ที่อยู่ระหว่าง 3500 ถึง 5000 โดยที่เลขหลักพันกับหลักหน่วยมีค่าเท่ากัน และเลขหลักร้อยบวกกับเลขหลักสิบได้เท่ากับ 9\n",
      "คำตอบคือ  [3543, 3633, 3723, 3813, 3903, 4094, 4184, 4274, 4364, 4454, 4544, 4634, 4724, 4814, 4904]\n",
      "มีทั้งหมด   15 ตัว\n"
     ]
    }
   ],
   "source": [
    "# coding: utf-8\n",
    "\n",
    "# In[8]:\n",
    "\n",
    "import random\n",
    "a=0\n",
    "Max=5000\n",
    "Min=3500\n",
    "b=9 #ผลรวมของเลขหลักร้อยกับหลักสิบ\n",
    "store=[]\n",
    "ten = []\n",
    "hun = []\n",
    "count = []\n",
    "ans = []\n",
    "random1=0\n",
    "random2=0\n",
    "random3=0\n",
    "ANS=[]\n",
    "print (\"คำถาม?: จงหาตัวเลข 4 หลัก ที่อยู่ระหว่าง 3500 ถึง 5000 โดยที่เลขหลักพันกับหลักหน่วยมีค่าเท่ากัน และเลขหลักร้อยบวกกับเลขหลักสิบได้เท่ากับ 9\")\n",
    "for i in range (0,10):\n",
    "    ten.insert(10, i)\n",
    "for j in range (0,10):\n",
    "    hun.insert(10, j)\n",
    "while len(ten)!=0:\n",
    "    random1=random.choice(ten)\n",
    "    random2=random.choice(hun)\n",
    "    if random1+random2==b:\n",
    "        store.append((random1,random2))\n",
    "        ten.remove(random1)\n",
    "        hun.remove(random2)\n",
    "for i in range (0,10):\n",
    "    a = int(str(store[i][0])+str(store[i][1])+str(0))\n",
    "    ten.insert(10,a)\n",
    "for a in range (1,10):#ทำเงื่อนไขหลักพันกับหลักหน่วยเลขเดียวกัน\n",
    "    e = int(str(a)+str(0)+str(0)+str(a))\n",
    "    count.insert(10,e)\n",
    "for j in range (9):\n",
    "    for i in range (10):\n",
    "        ans.insert(10,count[j]+ten[i])\n",
    "ans.sort()\n",
    "for i in range(1000):\n",
    "    random3=random.choice(ans)\n",
    "    if Max > random3 > Min:\n",
    "        ANS.append(random3)\n",
    "        ans.remove(random3)\n",
    "    ANS.sort()\n",
    "print (\"คำตอบคือ \",ANS)\n",
    "print (\"มีทั้งหมด  \",len(ANS),\"ตัว\")\n",
    "\n",
    "\n",
    "# In[ ]:\n"
   ]
  },
  {
   "cell_type": "code",
   "execution_count": null,
   "metadata": {
    "collapsed": true
   },
   "outputs": [],
   "source": []
  }
 ],
 "metadata": {
  "kernelspec": {
   "display_name": "Python 3",
   "language": "python",
   "name": "python3"
  },
  "language_info": {
   "codemirror_mode": {
    "name": "ipython",
    "version": 3
   },
   "file_extension": ".py",
   "mimetype": "text/x-python",
   "name": "python",
   "nbconvert_exporter": "python",
   "pygments_lexer": "ipython3",
   "version": "3.5.1"
  }
 },
 "nbformat": 4,
 "nbformat_minor": 0
}
