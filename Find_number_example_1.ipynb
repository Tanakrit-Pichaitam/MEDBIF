{
 "cells": [
  {
   "cell_type": "code",
   "execution_count": 70,
   "metadata": {
    "collapsed": false
   },
   "outputs": [
    {
     "name": "stdout",
     "output_type": "stream",
     "text": [
      "คำถาม?: จงหาตัวเลข 4 หลัก ที่อยู่ระหว่าง 3500 ถึง 5000 โดยที่เลขหลักพันกับหลักหน่วยมีค่าเท่ากัน และเลขหลักร้อยบวกกับเลขหลักสิบได้เท่ากับ 9\n",
      "คำตอบคือ  [3543, 3633, 3723, 3813, 3903, 4094, 4184, 4274, 4364, 4454, 4544, 4634, 4724, 4814, 4904]\n",
      "มีทั้งหมด   15 ตัว\n"
     ]
    }
   ],
   "source": [
    "# coding: utf-8\n",
    "\n",
    "# In[8]:\n",
    "\n",
    "import random\n",
    "a=0\n",
    "Max=5000\n",
    "Min=3500\n",
    "b=9 #ผลรวมของเลขหลักร้อยกับหลักสิบ\n",
    "store=[]\n",
    "ten = []\n",
    "hun = []\n",
    "count = []\n",
    "ans = []\n",
    "random1=0\n",
    "random2=0\n",
    "random3=0\n",
    "ANS=[]\n",
    "print (\"คำถาม?: จงหาตัวเลข 4 หลัก ที่อยู่ระหว่าง 3500 ถึง 5000 โดยที่เลขหลักพันกับหลักหน่วยมีค่าเท่ากัน และเลขหลักร้อยบวกกับเลขหลักสิบได้เท่ากับ 9\")\n",
    "for i in range (0,10):\n",
    "    ten.insert(10, i)\n",
    "for j in range (0,10):\n",
    "    hun.insert(10, j)\n",
    "while len(ten)!=0:\n",
    "    random1=random.choice(ten)\n",
    "    random2=random.choice(hun)\n",
    "    if random1+random2==b:\n",
    "        store.append((random1,random2))\n",
    "        ten.remove(random1)\n",
    "        hun.remove(random2)\n",
    "for i in range (0,10):\n",
    "    a = int(str(store[i][0])+str(store[i][1])+str(0))\n",
    "    ten.insert(10,a)\n",
    "for a in range (1,10):#ทำเงื่อนไขหลักพันกับหลักหน่วยเลขเดียวกัน\n",
    "    e = int(str(a)+str(0)+str(0)+str(a))\n",
    "    count.insert(10,e)\n",
    "for j in range (9):\n",
    "    for i in range (10):\n",
    "        ans.insert(10,count[j]+ten[i])\n",
    "ans.sort()\n",
    "for i in range(1000):\n",
    "    random3=random.choice(ans)\n",
    "    if Max > random3 > Min:\n",
    "        ANS.append(random3)\n",
    "        ans.remove(random3)\n",
    "    ANS.sort()\n",
    "print (\"คำตอบคือ \",ANS)\n",
    "print (\"มีทั้งหมด  \",len(ANS),\"ตัว\")\n",
    "\n",
    "\n",
    "# In[ ]:\n"
   ]
  },
  {
   "cell_type": "markdown",
   "metadata": {},
   "source": [
    "#### อันนี้ เป็น file ที่ได้รับมา คำตอบที่ได้ถูกต้อง คือ 15 ตัว\n",
    "    แต่ code อ่านค่อนข้างยาก และซับซ้อน\n",
    "    ลองมาค่อย ๆ ทำความเข้าใจทีละส่วน\n",
    "    และทำการ refactor code คือทำให้ code อ่านเข้าใจง่ายขึ้น โดยไม่เปลี่ยนแปลงผลลัพท์"
   ]
  },
  {
   "cell_type": "markdown",
   "metadata": {},
   "source": [
    "##### ส่วนที่ 1\n",
    "ลองดูผลลัพธ์ของ code ด้านล่างดู"
   ]
  },
  {
   "cell_type": "code",
   "execution_count": 4,
   "metadata": {
    "collapsed": false
   },
   "outputs": [
    {
     "name": "stdout",
     "output_type": "stream",
     "text": [
      "[0, 1, 2, 3, 4, 5, 6, 7, 8, 9]\n"
     ]
    }
   ],
   "source": [
    "ten = []\n",
    "for i in range (0,10):\n",
    "    ten.insert(10, i)\n",
    "print(ten)"
   ]
  },
  {
   "cell_type": "markdown",
   "metadata": {},
   "source": [
    "จะเห็นว่า คล้ายกับคำสั่ง range(10) "
   ]
  },
  {
   "cell_type": "code",
   "execution_count": 7,
   "metadata": {
    "collapsed": false
   },
   "outputs": [
    {
     "name": "stdout",
     "output_type": "stream",
     "text": [
      "range(0, 10)\n"
     ]
    }
   ],
   "source": [
    "ten = range(10)\n",
    "print(ten)"
   ]
  },
  {
   "cell_type": "markdown",
   "metadata": {},
   "source": [
    "แต่ปกติ python จะยังไม่่สร้าง list ให้ก่อน ถ้าเราต้องการได้ list จริง ๆ\n",
    "เราสามารถบังคับให้สร้าง list ด้วยคำสั่ง"
   ]
  },
  {
   "cell_type": "code",
   "execution_count": 8,
   "metadata": {
    "collapsed": false
   },
   "outputs": [
    {
     "name": "stdout",
     "output_type": "stream",
     "text": [
      "[0, 1, 2, 3, 4, 5, 6, 7, 8, 9]\n"
     ]
    }
   ],
   "source": [
    "ten = list(range(10))\n",
    "print(ten)"
   ]
  },
  {
   "cell_type": "markdown",
   "metadata": {},
   "source": [
    "## ดังนั้น code ด้านบนจะเหลือเป็น และทดลองรัน ยังคงได้คำตอบที่ถูกต้อง"
   ]
  },
  {
   "cell_type": "code",
   "execution_count": 9,
   "metadata": {
    "collapsed": false,
    "scrolled": true
   },
   "outputs": [
    {
     "name": "stdout",
     "output_type": "stream",
     "text": [
      "คำถาม?: จงหาตัวเลข 4 หลัก ที่อยู่ระหว่าง 3500 ถึง 5000 โดยที่เลขหลักพันกับหลักหน่วยมีค่าเท่ากัน และเลขหลักร้อยบวกกับเลขหลักสิบได้เท่ากับ 9\n",
      "คำตอบคือ  [3543, 3633, 3723, 3813, 3903, 4094, 4184, 4274, 4364, 4454, 4544, 4634, 4724, 4814, 4904]\n",
      "มีทั้งหมด   15 ตัว\n"
     ]
    }
   ],
   "source": [
    "import random\n",
    "a=0\n",
    "Max=5000\n",
    "Min=3500\n",
    "b=9 #ผลรวมของเลขหลักร้อยกับหลักสิบ\n",
    "store=[]\n",
    "count = []\n",
    "ans = []\n",
    "random1=0\n",
    "random2=0\n",
    "random3=0\n",
    "ANS=[]\n",
    "ten = list(range(10))\n",
    "hun = list(range(10))\n",
    "\n",
    "print (\"คำถาม?: จงหาตัวเลข 4 หลัก ที่อยู่ระหว่าง 3500 ถึง 5000 โดยที่เลขหลักพันกับหลักหน่วยมีค่าเท่ากัน และเลขหลักร้อยบวกกับเลขหลักสิบได้เท่ากับ 9\")\n",
    "while len(ten)!=0:\n",
    "    random1=random.choice(ten)\n",
    "    random2=random.choice(hun)\n",
    "    if random1+random2==b:\n",
    "        store.append((random1,random2))\n",
    "        ten.remove(random1)\n",
    "        hun.remove(random2)\n",
    "for i in range (0,10):\n",
    "    a = int(str(store[i][0])+str(store[i][1])+str(0))\n",
    "    ten.insert(10,a)\n",
    "for a in range (1,10):#ทำเงื่อนไขหลักพันกับหลักหน่วยเลขเดียวกัน\n",
    "    e = int(str(a)+str(0)+str(0)+str(a))\n",
    "    count.insert(10,e)\n",
    "for j in range (9):\n",
    "    for i in range (10):\n",
    "        ans.insert(10,count[j]+ten[i])\n",
    "ans.sort()\n",
    "for i in range(1000):\n",
    "    random3=random.choice(ans)\n",
    "    if Max > random3 > Min:\n",
    "        ANS.append(random3)\n",
    "        ans.remove(random3)\n",
    "    ANS.sort()\n",
    "print (\"คำตอบคือ \",ANS)\n",
    "print (\"มีทั้งหมด  \",len(ANS),\"ตัว\")"
   ]
  },
  {
   "cell_type": "markdown",
   "metadata": {},
   "source": [
    "#### มาลองดู code ที่รันต่อจากนั้น"
   ]
  },
  {
   "cell_type": "code",
   "execution_count": 68,
   "metadata": {
    "collapsed": false
   },
   "outputs": [
    {
     "name": "stdout",
     "output_type": "stream",
     "text": [
      "[(3, 6), (6, 3), (9, 0), (2, 7), (8, 1), (1, 8), (0, 9), (4, 5), (5, 4), (7, 2)]\n"
     ]
    }
   ],
   "source": [
    "store=[]\n",
    "ten = list(range(10))\n",
    "hun = list(range(10))\n",
    "while len(ten)!=0:\n",
    "    random1=random.choice(ten)\n",
    "    random2=random.choice(hun)\n",
    "    if random1+random2==b:\n",
    "        store.append((random1,random2))\n",
    "        ten.remove(random1)\n",
    "        hun.remove(random2)\n",
    "print(store)"
   ]
  },
  {
   "cell_type": "markdown",
   "metadata": {},
   "source": [
    "##### ดูตามจุดประสงค์ น่าจะต้องการจับคู่ กลุ่มที่รวมกันได้ 9 แต่ไม่จำเป็นต้องใช้ random เราสามารถจัดการเป็นระบบได้ โดยการใช้ for ซึ่งน่าจะเข้าใจพอสมควรอยู่แล้ว เพราะมีการใช้ for ใน code ด้านล่างอยู่ "
   ]
  },
  {
   "cell_type": "markdown",
   "metadata": {},
   "source": [
    "##### หากต้องการจับคู่ที่ได้ 9 แนวคิดคือ เราจะ loop ซ้อนกัน 2 ชั้น ดังตัวอย่างด้านล่าง"
   ]
  },
  {
   "cell_type": "code",
   "execution_count": 12,
   "metadata": {
    "collapsed": false
   },
   "outputs": [
    {
     "name": "stdout",
     "output_type": "stream",
     "text": [
      "0 0\n",
      "0 1\n",
      "0 2\n",
      "1 0\n",
      "1 1\n",
      "1 2\n",
      "2 0\n",
      "2 1\n",
      "2 2\n"
     ]
    }
   ],
   "source": [
    "for i in range(3):\n",
    "    for j in range(3):\n",
    "        print(i,j)"
   ]
  },
  {
   "cell_type": "markdown",
   "metadata": {},
   "source": [
    "##### จะเห็นการทำงานว่า loop นอก ตัวแปร i จะเริ่มจากค่า 0 แล้ววนลูปใน ตัวแปร j จนครบ แล้วจึงวนกลับไปที่ loop นอกให้ตัวแปร i กลายเป็น 1 แล้ววนตัวแปร j อีก ไปเรื่อย ๆ หากคิดตามแนวนี้ เราจะเขียน code ด้านบน โดยที่ไม่ต้องใช้ random ได้ดังนี้"
   ]
  },
  {
   "cell_type": "code",
   "execution_count": 21,
   "metadata": {
    "collapsed": false
   },
   "outputs": [
    {
     "data": {
      "text/plain": [
       "[(0, 9),\n",
       " (1, 8),\n",
       " (2, 7),\n",
       " (3, 6),\n",
       " (4, 5),\n",
       " (5, 4),\n",
       " (6, 3),\n",
       " (7, 2),\n",
       " (8, 1),\n",
       " (9, 0)]"
      ]
     },
     "execution_count": 21,
     "metadata": {},
     "output_type": "execute_result"
    }
   ],
   "source": [
    "store = []\n",
    "for i in range(10):\n",
    "    for j in range(10):\n",
    "        if i+j == 9:\n",
    "            store.append((i,j))\n",
    "store"
   ]
  },
  {
   "cell_type": "markdown",
   "metadata": {},
   "source": [
    "##### Code ดังกล่าว ถ้าหากเขียนด้วย list comprehension ใน python ก็จะสั้นขึ้นไปอีก ดังตัวอย่างด้านล่าง"
   ]
  },
  {
   "cell_type": "markdown",
   "metadata": {},
   "source": [
    "##### ดัวอย่างแรก เขียนเป็น list comprehension ได้ดังนี้"
   ]
  },
  {
   "cell_type": "code",
   "execution_count": 19,
   "metadata": {
    "collapsed": false
   },
   "outputs": [
    {
     "name": "stdout",
     "output_type": "stream",
     "text": [
      "[(0, 0), (0, 1), (0, 2), (1, 0), (1, 1), (1, 2), (2, 0), (2, 1), (2, 2)]\n"
     ]
    }
   ],
   "source": [
    "# make 2 loops as list comprehension\n",
    "tmp = [(i,j) for i in range(3) for j in range(3)]\n",
    "print(tmp)"
   ]
  },
  {
   "cell_type": "markdown",
   "metadata": {},
   "source": [
    "ดังนั้น code store ที่เราต้องการ จะเขียนได้ดังนี้"
   ]
  },
  {
   "cell_type": "code",
   "execution_count": 20,
   "metadata": {
    "collapsed": false
   },
   "outputs": [
    {
     "data": {
      "text/plain": [
       "[(0, 9),\n",
       " (1, 8),\n",
       " (2, 7),\n",
       " (3, 6),\n",
       " (4, 5),\n",
       " (5, 4),\n",
       " (6, 3),\n",
       " (7, 2),\n",
       " (8, 1),\n",
       " (9, 0)]"
      ]
     },
     "execution_count": 20,
     "metadata": {},
     "output_type": "execute_result"
    }
   ],
   "source": [
    "store = [(i,j) for i in range(10) for j in range(10) if i+j==9]\n",
    "store"
   ]
  },
  {
   "cell_type": "markdown",
   "metadata": {},
   "source": [
    "#### code ต่อมาคือ\n",
    "สิ่งที่เราทราบคือ ten ตอนนี้ เป็น list ว่าง ๆ เพราะหลุดจาก while loop ที่มีเงื่อนไข\n",
    "    while len(ten)!=0:\n",
    "แปลว่า ถ้าหลุดจาก loop นี้ได้ ความยาว (len) ต้องเท่ากับ 0 คือเป็น list ว่าง ๆ แล้ว\n",
    "\n",
    "code ที่พิจารณาต่อไปคือ\n",
    "    for i in range (0,10):\n",
    "        a = int(str(store[i][0])+str(store[i][1])+str(0))\n",
    "        ten.insert(10,a)\n",
    "เข้าใจได้ว่า จะ loop 10 รอบ แล้วที่ต้องการคือนำตัวเลขตัวแรก และตัวที่สองใน store มาแปลงเป็นตัวอักษร แล้วต่อด้วยตัวอักษร 0 แล้วแปลงให้เป็น integer อีก แล้วนำไปใส่ใน ten\n",
    "\n",
    "ซึ่งถ้าคิดดี ๆ แล้ว ก็สามารถเขียนได้เป็น"
   ]
  },
  {
   "cell_type": "code",
   "execution_count": 36,
   "metadata": {
    "collapsed": false
   },
   "outputs": [
    {
     "data": {
      "text/plain": [
       "[630, 540, 360, 450, 90, 810, 270, 720, 900, 180]"
      ]
     },
     "execution_count": 36,
     "metadata": {},
     "output_type": "execute_result"
    }
   ],
   "source": [
    "ten = []\n",
    "for i,j in store:\n",
    "    a = (i*100)+(j*10)\n",
    "    ten.append(a)\n",
    "ten"
   ]
  },
  {
   "cell_type": "markdown",
   "metadata": {},
   "source": [
    "หรือเขียนแบบ list comprehension ได้เป็น"
   ]
  },
  {
   "cell_type": "code",
   "execution_count": 72,
   "metadata": {
    "collapsed": false
   },
   "outputs": [
    {
     "data": {
      "text/plain": [
       "[90, 180, 270, 360, 450, 540, 630, 720, 810, 900]"
      ]
     },
     "execution_count": 72,
     "metadata": {},
     "output_type": "execute_result"
    }
   ],
   "source": [
    "ten = [(i*100)+(j*10) for i,j in store]\n",
    "ten"
   ]
  },
  {
   "cell_type": "markdown",
   "metadata": {},
   "source": [
    "ตรงนี้ ดูเหมือนว่าต้องการที่จะได้ค่าหลักพันกับหลักสิบเอาไว้"
   ]
  },
  {
   "cell_type": "markdown",
   "metadata": {},
   "source": [
    "#### ทดลองรัน code ส่วนด้านล่างดู ทำให้เข้าใจว่า ต้องการสร้าง code ที่มีตัวเลขหลักพันกับหลักหน่วยเป็นเลขเดียวกัน"
   ]
  },
  {
   "cell_type": "code",
   "execution_count": 78,
   "metadata": {
    "collapsed": false
   },
   "outputs": [
    {
     "name": "stdout",
     "output_type": "stream",
     "text": [
      "[1001, 2002, 3003, 4004, 5005, 6006, 7007, 8008, 9009]\n"
     ]
    }
   ],
   "source": [
    "count = []\n",
    "for a in range (1,10):#ทำเงื่อนไขหลักพันกับหลักหน่วยเลขเดียวกัน\n",
    "    e = int(str(a)+str(0)+str(0)+str(a))\n",
    "    count.insert(10,e)\n",
    "print(count)"
   ]
  },
  {
   "cell_type": "markdown",
   "metadata": {},
   "source": [
    "ซึ่งเราสามารถเขียนแบบ list comprehension ได้เป็น"
   ]
  },
  {
   "cell_type": "code",
   "execution_count": 80,
   "metadata": {
    "collapsed": false
   },
   "outputs": [
    {
     "name": "stdout",
     "output_type": "stream",
     "text": [
      "[1001, 2002, 3003, 4004, 5005, 6006, 7007, 8008, 9009]\n"
     ]
    }
   ],
   "source": [
    "count = [(i*1000)+i for i in range(1,10)]\n",
    "print(count)"
   ]
  },
  {
   "cell_type": "markdown",
   "metadata": {},
   "source": [
    "#### Code ต่อจากนี้ เหมือนต้องการจับคู่ หลักพันกับหลักหน่วย เข้ากับหลักร้อยกับหลักสิบ จึงวนลูปสองรอบ สามารถปรับเป็น list comprehension จาก\n",
    "    for j in range (9):\n",
    "        for i in range (10):\n",
    "            ans.insert(10,count[j]+ten[i])\n",
    "เป็น"
   ]
  },
  {
   "cell_type": "code",
   "execution_count": 81,
   "metadata": {
    "collapsed": false
   },
   "outputs": [
    {
     "name": "stdout",
     "output_type": "stream",
     "text": [
      "[1091, 1181, 1271, 1361, 1451, 1541, 1631, 1721, 1811, 1901, 2092, 2182, 2272, 2362, 2452, 2542, 2632, 2722, 2812, 2902, 3093, 3183, 3273, 3363, 3453, 3543, 3633, 3723, 3813, 3903, 4094, 4184, 4274, 4364, 4454, 4544, 4634, 4724, 4814, 4904, 5095, 5185, 5275, 5365, 5455, 5545, 5635, 5725, 5815, 5905, 6096, 6186, 6276, 6366, 6456, 6546, 6636, 6726, 6816, 6906, 7097, 7187, 7277, 7367, 7457, 7547, 7637, 7727, 7817, 7907, 8098, 8188, 8278, 8368, 8458, 8548, 8638, 8728, 8818, 8908, 9099, 9189, 9279, 9369, 9459, 9549, 9639, 9729, 9819, 9909]\n"
     ]
    }
   ],
   "source": [
    "ans = [count[j]+ten[i] for j in range(9) for i in range(10)]\n",
    "print(ans)"
   ]
  },
  {
   "cell_type": "markdown",
   "metadata": {},
   "source": [
    "#### Code ต่อจากนั้น จึงต้องการกรองข้อมูลออกตามเงื่อนไขว่าคำตอบต้องอยู่ระหว่าง 3500 - 5000\n",
    "    ans.sort()\n",
    "    for i in range(1000):\n",
    "        random3=random.choice(ans)\n",
    "        if Max > random3 > Min:\n",
    "            ANS.append(random3)\n",
    "            ans.remove(random3)\n",
    "        ANS.sort()\n",
    "ซึ่งไม่จำเป็นต้องใช้ random.choice เลย เราสามารถวนลูปตัวคำตอบได้อยู่แล้วเป็น\n",
    "กระบวนการคิดคือ สร้างตัวแปร คำตอบสุดท้ายคือ valid_ans เป็น list ว่าง ๆ ก่อน\n",
    "แล้ววนลูปทุกคำตอบใน ans จากนั้นก็เปรียบเทียบเงื่อนไข ถ้าถูกต้อง ก็นำคำตอบนั้นไปใส่ใน\n",
    "valid_ans\n",
    "    valid_ans = []\n",
    "    for i in ans:\n",
    "        if 3500 < i < 5000:\n",
    "            valid_ans.append(i)\n",
    "หรือเขียนเป็น list comprehension เป็น        "
   ]
  },
  {
   "cell_type": "code",
   "execution_count": 83,
   "metadata": {
    "collapsed": false
   },
   "outputs": [
    {
     "name": "stdout",
     "output_type": "stream",
     "text": [
      "[3543, 3633, 3723, 3813, 3903, 4094, 4184, 4274, 4364, 4454, 4544, 4634, 4724, 4814, 4904]\n"
     ]
    }
   ],
   "source": [
    "valid_ans = [i for i in ans if 3500<i<5000]\n",
    "valid_ans.sort()\n",
    "print(valid_ans)"
   ]
  },
  {
   "cell_type": "markdown",
   "metadata": {},
   "source": [
    "#### Code ขณะนี้ จึงเป็น\n",
    "โดยเอา import random ออก และเอาตัวแปรที่ไม่ได้ใช้ออก"
   ]
  },
  {
   "cell_type": "markdown",
   "metadata": {},
   "source": [
    "## use reset command เพื่อลบตัวแปรที่เคยมีอยู่ทั้งหมดออก เพื่อให้มั่นใจว่า code ต่อจากนั้น สามารถรันได้ โดยไม่ได้อาศัยตัวแปรต่าง ๆ ที่เคยถูกสร้างไว้"
   ]
  },
  {
   "cell_type": "code",
   "execution_count": 84,
   "metadata": {
    "collapsed": false
   },
   "outputs": [],
   "source": [
    "%reset -f"
   ]
  },
  {
   "cell_type": "markdown",
   "metadata": {},
   "source": [
    "# Code สุดท้าย หลังจากปรับเรียบร้อยแล้ว"
   ]
  },
  {
   "cell_type": "code",
   "execution_count": 88,
   "metadata": {
    "collapsed": false,
    "scrolled": true
   },
   "outputs": [
    {
     "name": "stdout",
     "output_type": "stream",
     "text": [
      "คำถาม?: จงหาตัวเลข 4 หลัก ที่อยู่ระหว่าง 3500 ถึง 5000 โดยที่เลขหลักพันกับหลักหน่วยมีค่าเท่ากัน และเลขหลักร้อยบวกกับเลขหลักสิบได้เท่ากับ 9\n",
      "คำตอบคือ  [3543, 3633, 3723, 3813, 3903, 4094, 4184, 4274, 4364, 4454, 4544, 4634, 4724, 4814, 4904]\n",
      "มีทั้งหมด   15 ตัว\n"
     ]
    }
   ],
   "source": [
    "Max=5000\n",
    "Min=3500\n",
    "b=9 #ผลรวมของเลขหลักร้อยกับหลักสิบ\n",
    "\n",
    "print (\"คำถาม?: จงหาตัวเลข 4 หลัก ที่อยู่ระหว่าง 3500 ถึง 5000 โดยที่เลขหลักพันกับหลักหน่วยมีค่าเท่ากัน และเลขหลักร้อยบวกกับเลขหลักสิบได้เท่ากับ 9\")\n",
    "store = [(i,j) for i in range(10) for j in range(10) if i+j==b]\n",
    "ten = [(i*100)+(j*10) for i,j in store]\n",
    "count = [(i*1000)+i for i in range(1,10)]\n",
    "ans = [count[j]+ten[i] for j in range(9) for i in range(10)]\n",
    "valid_ans = [i for i in ans if Min<i<Max]\n",
    "valid_ans.sort()\n",
    "print (\"คำตอบคือ \",valid_ans)\n",
    "print (\"มีทั้งหมด  \",len(valid_ans),\"ตัว\")"
   ]
  }
 ],
 "metadata": {
  "kernelspec": {
   "display_name": "Python 3",
   "language": "python",
   "name": "python3"
  },
  "language_info": {
   "codemirror_mode": {
    "name": "ipython",
    "version": 3
   },
   "file_extension": ".py",
   "mimetype": "text/x-python",
   "name": "python",
   "nbconvert_exporter": "python",
   "pygments_lexer": "ipython3",
   "version": "3.5.1"
  }
 },
 "nbformat": 4,
 "nbformat_minor": 0
}
